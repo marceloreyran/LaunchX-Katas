{
 "cells": [
  {
   "cell_type": "markdown",
   "source": [
    "# Datos con los que vamos a trabajar"
   ],
   "metadata": {}
  },
  {
   "cell_type": "code",
   "execution_count": 6,
   "source": [
    "planeta = 'Jupiter'\n",
    "gravedad  = 0.00143\n",
    "nombre = 'Ganímedes'"
   ],
   "outputs": [],
   "metadata": {}
  },
  {
   "cell_type": "markdown",
   "source": [
    "# Creamos el título\n"
   ],
   "metadata": {}
  },
  {
   "cell_type": "code",
   "execution_count": 7,
   "source": [
    "title = f'Datos de gravedad sobre {nombre}'"
   ],
   "outputs": [],
   "metadata": {}
  },
  {
   "cell_type": "markdown",
   "source": [
    "# Creamos la plantilla\n"
   ],
   "metadata": {}
  },
  {
   "cell_type": "code",
   "execution_count": 8,
   "source": [
    "pruebas = f\"\"\"{'-'*90} \n",
    "nombre del planeta: {planeta} \n",
    "gravedad en {nombre}: {gravedad * 1000} m/s2 \n",
    "\"\"\""
   ],
   "outputs": [],
   "metadata": {}
  },
  {
   "cell_type": "markdown",
   "source": [
    "# Unión de ambas cadenas"
   ],
   "metadata": {}
  },
  {
   "cell_type": "code",
   "execution_count": 24,
   "source": [
    "template = f\"\"\"{title.title()} \n",
    "{pruebas} \n",
    "\"\"\" \n",
    "print(pruebas)\n"
   ],
   "outputs": [
    {
     "output_type": "stream",
     "name": "stdout",
     "text": [
      "------------------------------------------------------------------------------------------ \n",
      "nombre del planeta: Jupiter \n",
      "gravedad en Ganímedes: 1.4300000000000002 m/s2 \n",
      "\n"
     ]
    }
   ],
   "metadata": {}
  },
  {
   "cell_type": "markdown",
   "source": [
    "# Nuevos datos muestra"
   ],
   "metadata": {}
  },
  {
   "cell_type": "code",
   "execution_count": 9,
   "source": [
    "planeta = 'Jupiter'\n",
    "gravedad = 0.00153\n",
    "nombre = 'Ganímedes'"
   ],
   "outputs": [],
   "metadata": {}
  },
  {
   "cell_type": "code",
   "execution_count": 10,
   "source": [
    "new_template = \"\"\"\n",
    "Datos de la gravedad sobre: {nombre}\n",
    "Nombre del planeta: {planeta}\n",
    "Gravedad en {nombre}: {gravedad} m/s2\n",
    "\"\"\"\n",
    "print(new_template.format(nombre=nombre, planeta=planeta, gravedad=gravedad))\n"
   ],
   "outputs": [
    {
     "output_type": "stream",
     "name": "stdout",
     "text": [
      "\n",
      "Datos de la gravedad sobre: Ganímedes\n",
      "Nombre del planeta: Jupiter\n",
      "Gravedad en Ganímedes: 0.00153 m/s2\n",
      "\n"
     ]
    }
   ],
   "metadata": {}
  }
 ],
 "metadata": {
  "orig_nbformat": 4,
  "language_info": {
   "name": "python",
   "version": "3.10.0",
   "mimetype": "text/x-python",
   "codemirror_mode": {
    "name": "ipython",
    "version": 3
   },
   "pygments_lexer": "ipython3",
   "nbconvert_exporter": "python",
   "file_extension": ".py"
  },
  "kernelspec": {
   "name": "python3",
   "display_name": "Python 3.10.0 64-bit ('env': venv)"
  },
  "interpreter": {
   "hash": "5e2f2006a90dab70b7f3c6fc31e9e02224d3a2953a97ef11542da43395b1441d"
  }
 },
 "nbformat": 4,
 "nbformat_minor": 2
}