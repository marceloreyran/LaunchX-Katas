{
 "cells": [
  {
   "cell_type": "markdown",
   "source": [
    "# Lista de Planetas"
   ],
   "metadata": {}
  },
  {
   "cell_type": "code",
   "execution_count": 31,
   "source": [
    "planetas =['Mercurio','Venus','Tierra','Marte','Jupiter','Saturno','Urano','Neptuno']\n"
   ],
   "outputs": [],
   "metadata": {}
  },
  {
   "cell_type": "markdown",
   "source": [
    "# Solicitamos el nombre de un planeta *Pista:  input()*"
   ],
   "metadata": {}
  },
  {
   "cell_type": "code",
   "execution_count": 32,
   "source": [
    "usuario_planeta = input('Por favor ingrese el nombre del planeta (con mayúscula para comenzar')"
   ],
   "outputs": [],
   "metadata": {}
  },
  {
   "cell_type": "markdown",
   "source": [
    "# Busca el planeta en la lista"
   ],
   "metadata": {}
  },
  {
   "cell_type": "code",
   "execution_count": 33,
   "source": [
    "planeta_index = planetas.index(usuario_planeta)"
   ],
   "outputs": [],
   "metadata": {}
  },
  {
   "cell_type": "markdown",
   "source": [
    "# Muestra los planetas más cercanos al sol"
   ],
   "metadata": {}
  },
  {
   "cell_type": "code",
   "execution_count": 34,
   "source": [
    "print('Aquí están los planetas más cerca que ' + usuario_planeta)\n",
    "print(planetas [0:planeta_index] )\n"
   ],
   "outputs": [
    {
     "output_type": "stream",
     "name": "stdout",
     "text": [
      "Aquí están los planetas más cerca que Saturno\n",
      "['Mercurio', 'Venus', 'Tierra', 'Marte', 'Jupiter']\n"
     ]
    }
   ],
   "metadata": {}
  },
  {
   "cell_type": "markdown",
   "source": [
    "# Muestra los planetas más lejanos al sol"
   ],
   "metadata": {}
  },
  {
   "cell_type": "code",
   "execution_count": 35,
   "source": [
    "print('Aquí están los planetas más lejos que' + usuario_planeta)\n",
    "print(planetas[planeta_index + 1:])"
   ],
   "outputs": [
    {
     "output_type": "stream",
     "name": "stdout",
     "text": [
      "Aquí están los planetas más lejos queSaturno\n",
      "['Urano', 'Neptuno']\n"
     ]
    }
   ],
   "metadata": {}
  }
 ],
 "metadata": {
  "orig_nbformat": 4,
  "language_info": {
   "name": "python",
   "version": "3.10.0",
   "mimetype": "text/x-python",
   "codemirror_mode": {
    "name": "ipython",
    "version": 3
   },
   "pygments_lexer": "ipython3",
   "nbconvert_exporter": "python",
   "file_extension": ".py"
  },
  "kernelspec": {
   "name": "python3",
   "display_name": "Python 3.10.0 64-bit"
  },
  "interpreter": {
   "hash": "aee8b7b246df8f9039afb4144a1f6fd8d2ca17a180786b69acc140d282b71a49"
  }
 },
 "nbformat": 4,
 "nbformat_minor": 2
}